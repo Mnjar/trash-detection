{
 "cells": [
  {
   "cell_type": "code",
   "execution_count": null,
   "metadata": {},
   "outputs": [
    {
     "name": "stderr",
     "output_type": "stream",
     "text": [
      "Converting COCO to YOLO: 100%|██████████| 110/110 [00:00<00:00, 1762.51it/s]"
     ]
    },
    {
     "name": "stdout",
     "output_type": "stream",
     "text": [
      "Konversi selesai! Dataset YOLO tersimpan di: ../dataset/Trash-Yolo-Subset/test/\n"
     ]
    },
    {
     "name": "stderr",
     "output_type": "stream",
     "text": [
      "\n"
     ]
    }
   ],
   "source": [
    "import os\n",
    "import json\n",
    "import shutil\n",
    "from tqdm import tqdm\n",
    "\n",
    "# Path ke file COCO JSON dan folder output YOLO\n",
    "coco_json_path = \"../dataset/Trash-COCO-Subset/test/_annotations.coco.json\"\n",
    "image_folder = \"../dataset/Trash-COCO-Subset/test/\"\n",
    "output_folder = \"../dataset/Trash-Yolo-Subset/test/\"\n",
    "\n",
    "# Membuat subfolder \"images\" dan \"labels\" dalam folder output\n",
    "images_output_folder = os.path.join(output_folder, \"images\")\n",
    "labels_output_folder = os.path.join(output_folder, \"labels\")\n",
    "os.makedirs(images_output_folder, exist_ok=True)\n",
    "os.makedirs(labels_output_folder, exist_ok=True)\n",
    "\n",
    "# Load data COCO\n",
    "with open(coco_json_path, 'r') as file:\n",
    "    coco_data = json.load(file)\n",
    "\n",
    "# Mapping kategori COCO ke YOLO class ID\n",
    "category_mapping = {cat[\"id\"]: idx for idx, cat in enumerate(coco_data[\"categories\"])}\n",
    "\n",
    "# Fungsi untuk konversi bbox COCO ke YOLO\n",
    "def coco_bbox_to_yolo_bbox(bbox, img_width, img_height):\n",
    "    x, y, w, h = bbox\n",
    "    x_center = (x + w / 2) / img_width\n",
    "    y_center = (y + h / 2) / img_height\n",
    "    w = w / img_width\n",
    "    h = h / img_height\n",
    "    return x_center, y_center, w, h\n",
    "\n",
    "# Proses setiap gambar\n",
    "for image_info in tqdm(coco_data[\"images\"], desc=\"Converting COCO to YOLO\"):\n",
    "    image_id = image_info[\"id\"]\n",
    "    file_name = image_info[\"file_name\"]\n",
    "    img_width = image_info[\"width\"]\n",
    "    img_height = image_info[\"height\"]\n",
    "    \n",
    "    # File output YOLO untuk gambar ini\n",
    "    label_file_path = os.path.join(labels_output_folder, os.path.splitext(file_name)[0] + \".txt\")\n",
    "    \n",
    "    # Ambil semua anotasi untuk gambar ini\n",
    "    annotations = [\n",
    "        ann for ann in coco_data[\"annotations\"] if ann[\"image_id\"] == image_id\n",
    "    ]\n",
    "    \n",
    "    # Tulis anotasi ke file YOLO\n",
    "    with open(label_file_path, 'w') as txt_file:\n",
    "        for ann in annotations:\n",
    "            category_id = ann[\"category_id\"]\n",
    "            yolo_class_id = category_mapping[category_id]\n",
    "            bbox = ann[\"bbox\"]\n",
    "            \n",
    "            # Konversi bbox ke format YOLO\n",
    "            yolo_bbox = coco_bbox_to_yolo_bbox(bbox, img_width, img_height)\n",
    "            \n",
    "            # Tulis ke file\n",
    "            txt_file.write(f\"{yolo_class_id} {' '.join(map(str, yolo_bbox))}\\n\")\n",
    "    \n",
    "    # Salin gambar ke folder \"images\"\n",
    "    source_image_path = os.path.join(image_folder, file_name)\n",
    "    destination_image_path = os.path.join(images_output_folder, file_name)\n",
    "    if os.path.exists(source_image_path):\n",
    "        shutil.copy(source_image_path, destination_image_path)\n",
    "\n",
    "print(\"Konversi selesai! Dataset YOLO tersimpan di:\", output_folder)\n"
   ]
  },
  {
   "cell_type": "code",
   "execution_count": 7,
   "metadata": {},
   "outputs": [
    {
     "name": "stdout",
     "output_type": "stream",
     "text": [
      "Proses selesai! Dataset telah diproses ke dalam struktur folder berdasarkan kategori.\n"
     ]
    }
   ],
   "source": [
    "import os\n",
    "import json\n",
    "from PIL import Image\n",
    "\n",
    "# Path dataset COCO\n",
    "coco_json_path = \"../dataset/Trash-COCO-Subset/test/_annotations.coco.json\"\n",
    "images_folder = \"../dataset/Trash-COCO-Subset/test/\"\n",
    "output_folder = \"../dataset/Trash/test/\"\n",
    "\n",
    "# Membuat folder output jika belum ada\n",
    "os.makedirs(output_folder, exist_ok=True)\n",
    "\n",
    "# Load file JSON COCO\n",
    "with open(coco_json_path, 'r') as file:\n",
    "    coco_data = json.load(file)\n",
    "\n",
    "# Mapping kategori (category_id -> category_name)\n",
    "category_mapping = {cat['id']: cat['name'] for cat in coco_data['categories']}\n",
    "\n",
    "# Menambahkan padding (50% dari ukuran bounding box)\n",
    "padding_factor = 1\n",
    "\n",
    "# Memproses setiap anotasi\n",
    "for annotation in coco_data['annotations']:\n",
    "    # Informasi dasar\n",
    "    image_id = annotation['image_id']\n",
    "    category_id = annotation['category_id']\n",
    "    category_name = category_mapping[category_id]\n",
    "    bbox = annotation['bbox']  # Format: [x, y, width, height]\n",
    "\n",
    "    # Cari file gambar\n",
    "    image_info = next(img for img in coco_data['images'] if img['id'] == image_id)\n",
    "    image_path = os.path.join(images_folder, image_info['file_name'])\n",
    "\n",
    "    # Buka gambar dan tambahkan padding pada bbox\n",
    "    with Image.open(image_path) as img:\n",
    "        img_width, img_height = img.size\n",
    "        x, y, w, h = map(int, bbox)\n",
    "\n",
    "        # Hitung padding\n",
    "        pad_w = int(w * padding_factor)\n",
    "        pad_h = int(h * padding_factor)\n",
    "\n",
    "        # Hitung bounding box dengan padding\n",
    "        x_min = max(0, x - pad_w)\n",
    "        y_min = max(0, y - pad_h)\n",
    "        x_max = min(img_width, x + w + pad_w)\n",
    "        y_max = min(img_height, y + h + pad_h)\n",
    "\n",
    "        # Crop gambar dengan bounding box yang diperluas\n",
    "        cropped_img = img.crop((x_min, y_min, x_max, y_max))\n",
    "\n",
    "        # Buat folder kategori jika belum ada\n",
    "        category_folder = os.path.join(output_folder, category_name)\n",
    "        os.makedirs(category_folder, exist_ok=True)\n",
    "\n",
    "        # Simpan gambar hasil crop\n",
    "        output_image_path = os.path.join(\n",
    "            category_folder, f\"{image_info['file_name'].split('.')[0]}_{annotation['id']}.jpg\"\n",
    "        )\n",
    "        cropped_img.save(output_image_path)\n",
    "\n",
    "print(\"Proses selesai! Dataset telah diproses ke dalam struktur folder berdasarkan kategori.\")\n"
   ]
  }
 ],
 "metadata": {
  "kernelspec": {
   "display_name": "base",
   "language": "python",
   "name": "python3"
  },
  "language_info": {
   "codemirror_mode": {
    "name": "ipython",
    "version": 3
   },
   "file_extension": ".py",
   "mimetype": "text/x-python",
   "name": "python",
   "nbconvert_exporter": "python",
   "pygments_lexer": "ipython3",
   "version": "3.11.5"
  }
 },
 "nbformat": 4,
 "nbformat_minor": 2
}
