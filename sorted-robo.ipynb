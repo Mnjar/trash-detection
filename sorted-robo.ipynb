{
 "cells": [
  {
   "cell_type": "code",
   "execution_count": null,
   "metadata": {},
   "outputs": [
    {
     "name": "stderr",
     "output_type": "stream",
     "text": [
      "Copying images for : 100%|██████████| 110/110 [00:00<00:00, 1777.45it/s]"
     ]
    },
    {
     "name": "stdout",
     "output_type": "stream",
     "text": [
      "Proses selesai untuk ../dataset/Trash Detection.v14i.coco/test/. Hasil disimpan di ../dataset/Filtered/test/.\n"
     ]
    },
    {
     "name": "stderr",
     "output_type": "stream",
     "text": [
      "\n"
     ]
    }
   ],
   "source": [
    "import os\n",
    "import json\n",
    "import shutil\n",
    "from tqdm import tqdm\n",
    "\n",
    "# Path folder dan file JSON\n",
    "json_paths = {\n",
    "    \"train\": \"../dataset/Trash Detection.v14i.coco/train/_annotations.coco.json\",\n",
    "    \"val\": \"../dataset/Trash Detection.v14i.coco/valid/_annotations.coco.json\",\n",
    "    \"test\": \"../dataset/Trash Detection.v14i.coco/test/_annotations.coco.json\"\n",
    "}\n",
    "\n",
    "input_folders = {\n",
    "    \"train\": \"../dataset/Trash Detection.v14i.coco/train/\",\n",
    "    \"val\": \"../dataset/Trash Detection.v14i.coco/valid/\",\n",
    "    \"test\": \"../dataset/Trash Detection.v14i.coco/test/\"\n",
    "}\n",
    "\n",
    "output_folders = {\n",
    "    \"train\": \"../dataset/Filtered/train/\",\n",
    "    \"val\": \"../dataset/Filtered/valid/\",\n",
    "    \"test\": \"../dataset/Filtered/test/\"\n",
    "}\n",
    "\n",
    "# Kategori yang ingin dihapus\n",
    "category_to_remove = \"Waste\"\n",
    "\n",
    "# Fungsi untuk memproses setiap folder\n",
    "def process_folder(json_path, input_folder, output_folder, category_to_remove):\n",
    "    # Load JSON\n",
    "    with open(json_path, 'r') as file:\n",
    "        data = json.load(file)\n",
    "\n",
    "    # Cari ID kategori yang ingin dihapus\n",
    "    category_to_remove_id = None\n",
    "    for category in data[\"categories\"]:\n",
    "        if category[\"name\"] == category_to_remove:\n",
    "            category_to_remove_id = category[\"id\"]\n",
    "            break\n",
    "\n",
    "    if category_to_remove_id is None:\n",
    "        print(f\"Kategori '{category_to_remove}' tidak ditemukan di {json_path}.\")\n",
    "        return\n",
    "\n",
    "    # Filter anotasi untuk menghilangkan kategori yang dihapus\n",
    "    filtered_annotations = [\n",
    "        ann for ann in data[\"annotations\"] if ann[\"category_id\"] != category_to_remove_id\n",
    "    ]\n",
    "\n",
    "    # Cari image_id yang masih memiliki anotasi\n",
    "    valid_image_ids = {ann[\"image_id\"] for ann in filtered_annotations}\n",
    "\n",
    "    # Filter gambar berdasarkan image_id yang valid\n",
    "    filtered_images = [\n",
    "        img for img in data[\"images\"] if img[\"id\"] in valid_image_ids\n",
    "    ]\n",
    "\n",
    "    # Filter kategori (hilangkan kategori yang dihapus)\n",
    "    filtered_categories = [\n",
    "        cat for cat in data[\"categories\"] if cat[\"id\"] != category_to_remove_id\n",
    "    ]\n",
    "\n",
    "    # Update data JSON\n",
    "    data[\"annotations\"] = filtered_annotations\n",
    "    data[\"images\"] = filtered_images\n",
    "    data[\"categories\"] = filtered_categories\n",
    "\n",
    "    # Simpan JSON baru\n",
    "    os.makedirs(output_folder, exist_ok=True)\n",
    "    output_json_path = os.path.join(output_folder, \"_annotations.coco.json\")\n",
    "    with open(output_json_path, 'w') as file:\n",
    "        json.dump(data, file, indent=4)\n",
    "\n",
    "    # Salin gambar ke folder baru\n",
    "    for image in tqdm(filtered_images, desc=f\"Copying images for {os.path.basename(input_folder)}\"):\n",
    "        source_path = os.path.join(input_folder, image[\"file_name\"])\n",
    "        destination_path = os.path.join(output_folder, image[\"file_name\"])\n",
    "        os.makedirs(os.path.dirname(destination_path), exist_ok=True)\n",
    "        shutil.copy(source_path, destination_path)\n",
    "\n",
    "    print(f\"Proses selesai untuk {input_folder}. Hasil disimpan di {output_folder}.\")\n",
    "\n",
    "# Proses semua folder (train, val, test)\n",
    "for split in [\"train\", \"val\", \"test\"]:\n",
    "    process_folder(\n",
    "        json_paths[split],\n",
    "        input_folders[split],\n",
    "        output_folders[split],\n",
    "        category_to_remove\n",
    "    )\n"
   ]
  }
 ],
 "metadata": {
  "kernelspec": {
   "display_name": "base",
   "language": "python",
   "name": "python3"
  },
  "language_info": {
   "codemirror_mode": {
    "name": "ipython",
    "version": 3
   },
   "file_extension": ".py",
   "mimetype": "text/x-python",
   "name": "python",
   "nbconvert_exporter": "python",
   "pygments_lexer": "ipython3",
   "version": "3.11.5"
  }
 },
 "nbformat": 4,
 "nbformat_minor": 2
}
