{
 "cells": [
  {
   "cell_type": "code",
   "execution_count": 2,
   "metadata": {},
   "outputs": [
    {
     "name": "stdout",
     "output_type": "stream",
     "text": [
      "Proses selesai! Dataset telah diproses ke dalam struktur folder berdasarkan kategori.\n"
     ]
    }
   ],
   "source": [
    "import os\n",
    "import json\n",
    "import shutil\n",
    "from PIL import Image\n",
    "\n",
    "# Path dataset COCO\n",
    "coco_json_path = \"../dataset/Trash-COCO-Subset/train/_annotations.coco.json\"\n",
    "images_folder = \"../dataset/Trash-COCO-Subset/train/\"\n",
    "output_folder = \"../dataset/Trash/\"\n",
    "\n",
    "# Membuat folder output jika belum ada\n",
    "os.makedirs(output_folder, exist_ok=True)\n",
    "\n",
    "# Load file JSON COCO\n",
    "with open(coco_json_path, 'r') as file:\n",
    "    coco_data = json.load(file)\n",
    "\n",
    "# Mapping kategori (category_id -> category_name)\n",
    "category_mapping = {cat['id']: cat['name'] for cat in coco_data['categories']}\n",
    "\n",
    "# Memproses setiap anotasi\n",
    "for annotation in coco_data['annotations']:\n",
    "    # Informasi dasar\n",
    "    image_id = annotation['image_id']\n",
    "    category_id = annotation['category_id']\n",
    "    category_name = category_mapping[category_id]\n",
    "    bbox = annotation['bbox']  # Format: [x, y, width, height]\n",
    "\n",
    "    # Cari file gambar\n",
    "    image_info = next(img for img in coco_data['images'] if img['id'] == image_id)\n",
    "    image_path = os.path.join(images_folder, image_info['file_name'])\n",
    "\n",
    "    # Buka gambar dan crop berdasarkan bbox\n",
    "    with Image.open(image_path) as img:\n",
    "        x, y, w, h = map(int, bbox)\n",
    "        cropped_img = img.crop((x, y, x + w, y + h))\n",
    "\n",
    "        # Buat folder kategori jika belum ada\n",
    "        category_folder = os.path.join(output_folder, category_name)\n",
    "        os.makedirs(category_folder, exist_ok=True)\n",
    "\n",
    "        # Simpan gambar hasil crop\n",
    "        output_image_path = os.path.join(\n",
    "            category_folder, f\"{image_info['file_name'].split('.')[0]}_{annotation['id']}.jpg\"\n",
    "        )\n",
    "        cropped_img.save(output_image_path)\n",
    "\n",
    "print(\"Proses selesai! Dataset telah diproses ke dalam struktur folder berdasarkan kategori.\")\n"
   ]
  }
 ],
 "metadata": {
  "kernelspec": {
   "display_name": "base",
   "language": "python",
   "name": "python3"
  },
  "language_info": {
   "codemirror_mode": {
    "name": "ipython",
    "version": 3
   },
   "file_extension": ".py",
   "mimetype": "text/x-python",
   "name": "python",
   "nbconvert_exporter": "python",
   "pygments_lexer": "ipython3",
   "version": "3.11.5"
  }
 },
 "nbformat": 4,
 "nbformat_minor": 2
}
